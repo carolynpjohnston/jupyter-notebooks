{
 "cells": [
  {
   "cell_type": "markdown",
   "metadata": {},
   "source": [
    "## Geyser Eruptions and Fisher Information\n",
    "\n",
    "### Carolyn P. Johnston, March 6, 2016\n",
    "\n",
    "Over Christmas vacation, Husband and Grown Children went off for a drive somewhere, and when they came back, they were arguing about how to solve the following problem: \n",
    "\n",
    "*There are 3 geysers: A, B, and C. Geyser A erupts every 2 hours; B, every 4 hours; and C, every 6 hours. The geysers erupt independently (as far as we know).*  \n",
    "\n",
    "*You arrive at the geysers, with no knowledge of when any of them last erupted. What is the probability that A will erupt before both B and C?*\n",
    "\n",
    "In the interest of family harmony at Christmas, I got right to work settling the issue. I worked out a closed-form solution, and then used a Monte Carlo simulation to check my work. After several tries at calculating the integral and getting results that didn't match the simulation's (the integral was different every time I worked it out -- not a good sign), I finally calculated the integral correctly (I'd like to be able to blame Probability or at least Calculus, but Arithmetic was actually at fault).\n",
    "\n",
    "\n",
    "### The analytic solution\n",
    "\n",
    "The time until next eruption of A, $t_A$, is modeled with $U_A$, a uniform distribution over $[0,2]$; $t_B$, as $U_B$ = Uniform $[0,4]$; $t_C$, as $U_C$ = Uniform$[0,6]$. The events of A, B, and C erupting are assumed to be independent. \n",
    "\n",
    "Since the eruption events are independent, the joint probability is given by the product of the individual pdfs:\n",
    "\n",
    "![alt text](Geyser-eq1.png \"Equation 1\")\n",
    "\n",
    "<!-- (originally) $$P(t_A < a, t_B < b, t_C < c) = \\int_0^a \\int_0^b\\int_0^c U_A(a)U_B(b)U_C(c) \\cdot da \\cdot db \\cdot dc.$$ -->\n",
    "\n",
    "The probability we are interested in is that of the event that $t_A < t_B$ and $t_A < t_C$. This is given by the integral: \n",
    "\n",
    "![alt text](Geyser-eq2.png \"Equation 2\")\n",
    "\n",
    "<!-- (originally)  $$\\int_0^2 \\int_a^4\\int_a^6 U_A(a)\\cdot U_B(b)\\cdot U_C(c) \\cdot da \\cdot db \\cdot dc = $$ -->\n",
    "\n",
    "<!-- (originally)  $$\\frac{1}{48} \\int_0^2 \\left\\{\\int_a^4 db \\cdot \\int_a^6 dc\\right\\} \\cdot da = \\frac{1}{48} \\int_0^2 (4-a)\\cdot(6-a) \\cdot da = \\frac{1}{48} \\cdot [\\frac{56}{3} + 12] = 0.63888.....$$ -->\n",
    "\n",
    "\n",
    "\n",
    "### The simulation in R\n",
    "\n",
    "Again, the time until next eruption of A, $t_A$, is a uniform distribution over $[0,2]$; $t_B$ is Uniform $[0,4]$; $t_C$ is Uniform$[0,6]$, and the $t_i$ for $i=A,B,C$ are assumed to be independent.\n",
    "\n",
    "I simulated $N$ draws from these distributions, and look at the frequency of the event of interest (A erupting before both B and C, or $t_A < t_B$ and $t_A < t_C$).\n",
    "\n",
    "I am a little disappointed that with $N=100000$ draws, I only get these estimated probability to the order of a thousandth."
   ]
  },
  {
   "cell_type": "code",
   "execution_count": 1,
   "metadata": {
    "collapsed": false
   },
   "outputs": [
    {
     "data": {
      "text/html": [
       "'The frequency of A erupting before B and C is estimated at: 0.637260 with: 100000 samples'"
      ],
      "text/latex": [
       "'The frequency of A erupting before B and C is estimated at: 0.637260 with: 100000 samples'"
      ],
      "text/markdown": [
       "'The frequency of A erupting before B and C is estimated at: 0.637260 with: 100000 samples'"
      ],
      "text/plain": [
       "[1] \"The frequency of A erupting before B and C is estimated at: 0.637260 with: 100000 samples\""
      ]
     },
     "execution_count": 1,
     "metadata": {},
     "output_type": "execute_result"
    },
    {
     "data": {
      "text/html": [
       "'The difference between this value and the analytic value is: 0.001629'"
      ],
      "text/latex": [
       "'The difference between this value and the analytic value is: 0.001629'"
      ],
      "text/markdown": [
       "'The difference between this value and the analytic value is: 0.001629'"
      ],
      "text/plain": [
       "[1] \"The difference between this value and the analytic value is: 0.001629\""
      ]
     },
     "execution_count": 1,
     "metadata": {},
     "output_type": "execute_result"
    }
   ],
   "source": [
    "\n",
    "N=100000\n",
    "\n",
    "getFreq <- function(N)\n",
    "    {\n",
    "    # simulate N independent observations of the time till each geyser erupts\n",
    "    time_till_A_erupts = runif(N, min=0, max=2)\n",
    "    time_till_B_erupts = runif(N, min=0, max=4)\n",
    "    time_till_C_erupts = runif(N, min=0, max=6)\n",
    "\n",
    "    # calculate the proportion of times that the desired event occurs\n",
    "    events = (time_till_A_erupts < time_till_B_erupts & time_till_A_erupts < time_till_C_erupts)\n",
    "    frequency = mean(events)\n",
    "    }\n",
    "\n",
    "freq1 = getFreq(N)\n",
    "sprintf(\"The frequency of A erupting before B and C is estimated at: %f with: %d samples\", freq1, N )\n",
    "sprintf(\"The difference between this value and the analytic value is: %f\", (56.0/3.0 + 12.0)/48.0 - freq1)"
   ]
  },
  {
   "cell_type": "markdown",
   "metadata": {},
   "source": [
    "### Exploring the accuracy of my estimates\n",
    "\n",
    "Why doesn't this estimate converge faster? \n",
    " \n",
    "Just to be sure I'm not crazy, I drew up a table showing the variance of the error in my estimates as a function of N. It shows that the variance of the error in my estimates drops at a rate of $1/N$, where the multiplier is in the range 0.1-0.3 or so. "
   ]
  },
  {
   "cell_type": "code",
   "execution_count": 2,
   "metadata": {
    "collapsed": false
   },
   "outputs": [
    {
     "data": {
      "text/html": [
       "<table>\n",
       "<thead><tr><th></th><th scope=col>N</th><th scope=col>error_sizes</th></tr></thead>\n",
       "<tbody>\n",
       "\t<tr><th scope=row>1</th><td>100</td><td>0.002405878</td></tr>\n",
       "\t<tr><th scope=row>2</th><td>1000</td><td>0.0002689388</td></tr>\n",
       "\t<tr><th scope=row>3</th><td>10000</td><td>2.40731e-05</td></tr>\n",
       "\t<tr><th scope=row>4</th><td>1e+05</td><td>2.859332e-06</td></tr>\n",
       "</tbody>\n",
       "</table>\n"
      ],
      "text/latex": [
       "\\begin{tabular}{r|ll}\n",
       "  & N & error_sizes\\\\\n",
       "\\hline\n",
       "\t1 & 100 & 0.002405878\\\\\n",
       "\t2 & 1000 & 0.0002689388\\\\\n",
       "\t3 & 10000 & 2.40731e-05\\\\\n",
       "\t4 & 1e+05 & 2.859332e-06\\\\\n",
       "\\end{tabular}\n"
      ],
      "text/plain": [
       "      N  error_sizes\n",
       "1 1e+02 2.405878e-03\n",
       "2 1e+03 2.689388e-04\n",
       "3 1e+04 2.407310e-05\n",
       "4 1e+05 2.859332e-06"
      ]
     },
     "execution_count": 2,
     "metadata": {},
     "output_type": "execute_result"
    }
   ],
   "source": [
    "replicate.K.times <- function(N,K=50)\n",
    "{\n",
    "    #cat(sprintf(\"Inside function, N=%d\\n\", N))\n",
    "    args = rep(N, K)\n",
    "    truefreq = (56.0/3.0 + 12.0)/48.0\n",
    "    truths = rep(truefreq, K)\n",
    "\n",
    "    # get K estimates of the probability\n",
    "    freqs = sapply(args, getFreq) \n",
    "\n",
    "    # calculate the errors in the estimates\n",
    "    errors = freqs-truths\n",
    "    \n",
    "    # the theoretical distribution of errors is mean 0, since the mean (proportion) estimator is unbiased\n",
    "    # find the standard deviation of the errors as an estimate of the size of the error\n",
    "    v_errors = var(errors)\n",
    "    return(v_errors)\n",
    "}\n",
    "\n",
    "N.values = c(100,1000, 10000,100000)\n",
    "error_sizes = sapply(N.values,replicate.K.times)\n",
    "data = data.frame(N=N.values, error_sizes=error_sizes)\n",
    "data"
   ]
  },
  {
   "cell_type": "markdown",
   "metadata": {},
   "source": [
    "This happens because the analytic integral is estimated, in my simulation, by taking the mean of random, independent draws from a Bernoulli r.v. with parameter $\\phi\\approx$ 0.63888, and therefore the estimate is also an unbiased estimator of $\\phi$. \n",
    "\n",
    "The Cramer-Rao bound theorem says that its (population) variance, as a function of N, is bounded below by the absolute value of the inverse of the Fisher information at $\\phi$; in this case,\n",
    "\n",
    "![alt text](Geyser-eq3.png \"Equation 3\")\n",
    "\n",
    "<!-- (originally) $$\\text{lower bound }(\\phi) = \\frac{1}{I(\\phi)} = \\frac{\\phi(1 - \\phi)}{N} \\approx\\frac{.23}{N}.$$ -->\n",
    "\n",
    "Therefore the apparent variance of my (unbiased) estimate is close to the minimum variance  estimate for this quantity (in fact, the population variance of this estimator does achieve that lower bound). Unless I want to switch to using a biased estimator, I can't do any better on average than this. "
   ]
  },
  {
   "cell_type": "code",
   "execution_count": null,
   "metadata": {
    "collapsed": true
   },
   "outputs": [],
   "source": []
  }
 ],
 "metadata": {
  "kernelspec": {
   "display_name": "R",
   "language": "R",
   "name": "ir"
  },
  "language_info": {
   "codemirror_mode": "r",
   "file_extension": ".r",
   "mimetype": "text/x-r-source",
   "name": "R",
   "pygments_lexer": "r",
   "version": "3.2.2"
  }
 },
 "nbformat": 4,
 "nbformat_minor": 0
}
