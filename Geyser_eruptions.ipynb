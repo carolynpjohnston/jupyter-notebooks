{
 "cells": [
  {
   "cell_type": "markdown",
   "metadata": {},
   "source": [
    "## Geyser simulation\n",
    "\n",
    "Q: There are 3 geysers: A, B, and C. A erupts every 2 hours; B, every 4 hours; and C, every 6 hours. \n",
    "\n",
    "You arrive at the geysers, with no knowledge of when any of them last erupted. What is the probability that A will erupt before both B and C?\n",
    "\n",
    "A: The time until next eruption of A is modeled as a uniform distribution over $[0,2]$; B, as Uniform $[0,4]$; C, as Uniform$[0,6]$). The events of A, B, and C erupting are assumed to be independent. We'll simulate N draws from these distributions, and look at the frequency of the event of interest.\n"
   ]
  },
  {
   "cell_type": "code",
   "execution_count": 11,
   "metadata": {
    "collapsed": false
   },
   "outputs": [
    {
     "data": {
      "text/html": [
       "0.638862"
      ],
      "text/latex": [
       "0.638862"
      ],
      "text/markdown": [
       "0.638862"
      ],
      "text/plain": [
       "[1] 0.638862"
      ]
     },
     "execution_count": 11,
     "metadata": {},
     "output_type": "execute_result"
    },
    {
     "data": {
      "text/html": [
       "0.222653"
      ],
      "text/latex": [
       "0.222653"
      ],
      "text/markdown": [
       "0.222653"
      ],
      "text/plain": [
       "[1] 0.222653"
      ]
     },
     "execution_count": 11,
     "metadata": {},
     "output_type": "execute_result"
    }
   ],
   "source": [
    "# simulate N observations of the time till the geyser erupts\n",
    "# using runif \n",
    "N=1000000\n",
    "time_till_A_erupts = runif(N, min=0, max=2)\n",
    "time_till_B_erupts = runif(N, min=0, max=4)\n",
    "time_till_C_erupts = runif(N, min=0, max=6)\n",
    "\n",
    "# calculate the desired frequencies\n",
    "eventsA = (time_till_A_erupts < time_till_B_erupts & time_till_A_erupts < time_till_C_erupts)\n",
    "eventsB = (time_till_B_erupts < time_till_C_erupts & time_till_B_erupts < time_till_A_erupts)\n",
    "frequencyA = mean(eventsA)\n",
    "frequencyA\n",
    "frequencyB = mean(eventsB)\n",
    "frequencyB\n"
   ]
  },
  {
   "cell_type": "code",
   "execution_count": 12,
   "metadata": {
    "collapsed": false
   },
   "outputs": [
    {
     "data": {
      "text/html": [
       "0.138485"
      ],
      "text/latex": [
       "0.138485"
      ],
      "text/markdown": [
       "0.138485"
      ],
      "text/plain": [
       "[1] 0.138485"
      ]
     },
     "execution_count": 12,
     "metadata": {},
     "output_type": "execute_result"
    }
   ],
   "source": [
    "# calculate the frequency of the event that C erupts first\n",
    "1- frequencyA - frequencyB"
   ]
  },
  {
   "cell_type": "code",
   "execution_count": null,
   "metadata": {
    "collapsed": true
   },
   "outputs": [],
   "source": []
  }
 ],
 "metadata": {
  "kernelspec": {
   "display_name": "R",
   "language": "R",
   "name": "ir"
  },
  "language_info": {
   "codemirror_mode": "r",
   "file_extension": ".r",
   "mimetype": "text/x-r-source",
   "name": "R",
   "pygments_lexer": "r",
   "version": "3.2.2"
  }
 },
 "nbformat": 4,
 "nbformat_minor": 0
}
