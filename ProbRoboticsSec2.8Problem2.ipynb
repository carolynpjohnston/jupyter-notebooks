{
 "cells": [
  {
   "cell_type": "markdown",
   "metadata": {},
   "source": [
    "Testing shortcut keys"
   ]
  },
  {
   "cell_type": "code",
   "execution_count": 6,
   "metadata": {},
   "outputs": [],
   "source": [
    "#this is code by default"
   ]
  },
  {
   "cell_type": "markdown",
   "metadata": {},
   "source": [
    "This is markdown - type esc-m."
   ]
  },
  {
   "cell_type": "markdown",
   "metadata": {},
   "source": [
    "This code generates a simulated series of weather data from the Markov chain defined in Probabilistic Robotics, Thrun et al, Chapter 2, Problem 2.\n",
    "The n'th column contains simulated weather n days following day 1 (on which the weather is assumed sunny)."
   ]
  },
  {
   "cell_type": "code",
   "execution_count": 11,
   "metadata": {},
   "outputs": [
    {
     "name": "stdout",
     "output_type": "stream",
     "text": [
      "(0.6428571428571429, 0.2857142857142857, 0.07142857142857142)\n"
     ]
    }
   ],
   "source": [
    "#compare the results to the stationary distribution \n",
    "# calculated in closed form \n",
    "# (by calculating the 1-eigenvector of the transition matrix)\n",
    "stationary_dist = (9.0/14.0,2.0/7.0, 1.0/14.0)\n",
    "print(stationary_dist)"
   ]
  },
  {
   "cell_type": "code",
   "execution_count": 7,
   "metadata": {},
   "outputs": [],
   "source": [
    "from numpy.random import multinomial\n",
    "import numpy as np\n",
    "import collections\n",
    "\n",
    "def run_sim(numdays):\n",
    "    '''\n",
    "    Generates a simulated series of weather data from the Markov chain defined in Probabilistic Robotics, Chapter 2, Problem 2.\n",
    "    The n'th column contains simulated weather n days following day 1 (on which the weather is sunny).\n",
    "    '''\n",
    "    sunny = 1\n",
    "    cloudy = 2\n",
    "    rainy = 3\n",
    "    def get_daytype(mvals):\n",
    "        if mvals[0]:\n",
    "            return sunny\n",
    "        elif mvals[1]:\n",
    "            return cloudy\n",
    "        elif mvals[2]:\n",
    "            return rainy\n",
    "        else:\n",
    "            raise Exception(\"mvals is all zeros\")\n",
    "    seq = np.zeros(numdays)\n",
    "    tomorrow = 0\n",
    "    today = sunny\n",
    "    seq[0] = sunny\n",
    "    for ii in range(1,numdays):\n",
    "        if today is sunny:\n",
    "            tomorrow = multinomial(1, [0.8,0.2,0.0])\n",
    "        elif today is cloudy:\n",
    "            tomorrow = multinomial(1, [.4,.4,.2])\n",
    "        elif today is rainy:\n",
    "            tomorrow = multinomial(1, [.2,.6,.2])\n",
    "        else: \n",
    "            print(\"today is {}\".format(today))\n",
    "            raise Exception('hey')\n",
    "        #print(get_daytype(tomorrow))\n",
    "        seq[ii] = int(get_daytype(tomorrow))\n",
    "        today = get_daytype(tomorrow)\n",
    "    #print(seq)\n",
    "    return seq\n"
   ]
  },
  {
   "cell_type": "code",
   "execution_count": 8,
   "metadata": {},
   "outputs": [],
   "source": [
    "# Generates numsims sequences of weather for numdays following a sunny day\n",
    "numsims = 2000\n",
    "numdays = 4\n",
    "results = np.zeros((numsims,numdays))\n",
    "for ii in range(numsims): \n",
    "    results[ii,]=run_sim(numdays)"
   ]
  },
  {
   "cell_type": "code",
   "execution_count": 9,
   "metadata": {},
   "outputs": [
    {
     "name": "stdout",
     "output_type": "stream",
     "text": [
      "Day 1:\n",
      "Counter({1.0: 0.7915, 2.0: 0.2085})\n",
      "Day 2:\n",
      "Counter({1.0: 0.6985, 2.0: 0.264, 3.0: 0.0375})\n",
      "Day 3:\n",
      "Counter({1.0: 0.657, 2.0: 0.28, 3.0: 0.063})\n"
     ]
    }
   ],
   "source": [
    "# Uses the previously simulated data to calculate \n",
    "# estimated probabilities of weather on each day for numdays following a sunny day\n",
    "# You can see each day's probabilities starting to converge to the stationary distribution\n",
    "for ii in range(1,numdays):\n",
    "    nextday = results[:,ii]\n",
    "    nextday_counts = collections.Counter(nextday)\n",
    "    for key in nextday_counts: \n",
    "        nextday_counts[key] = nextday_counts[key]/float(numsims)\n",
    "    print(\"Day {}:\\n{}\".format(ii,nextday_counts))"
   ]
  },
  {
   "cell_type": "code",
   "execution_count": 12,
   "metadata": {},
   "outputs": [
    {
     "name": "stdout",
     "output_type": "stream",
     "text": [
      "last day count\n",
      "Counter({1.0: 0.64675, 2.0: 0.28145, 3.0: 0.0718})\n",
      "next to last day count\n",
      "Counter({1.0: 0.64785, 2.0: 0.28285, 3.0: 0.0693})\n",
      "---------------------\n",
      "last day count\n",
      "Counter({1.0: 0.6494, 2.0: 0.27855, 3.0: 0.07205})\n",
      "next to last day count\n",
      "Counter({1.0: 0.6507, 2.0: 0.2809, 3.0: 0.0684})\n",
      "---------------------\n",
      "last day count\n",
      "Counter({1.0: 0.6421, 2.0: 0.28615, 3.0: 0.07175})\n",
      "next to last day count\n",
      "Counter({1.0: 0.64295, 2.0: 0.28495, 3.0: 0.0721})\n",
      "---------------------\n",
      "last day count\n",
      "Counter({1.0: 0.64035, 2.0: 0.28805, 3.0: 0.0716})\n",
      "next to last day count\n",
      "Counter({1.0: 0.6373, 2.0: 0.29325, 3.0: 0.06945})\n",
      "---------------------\n"
     ]
    }
   ],
   "source": [
    "# run independent sets of sims numsets times to see if probabilities stabilize\n",
    "numsets = 4\n",
    "numdays=10 # number of days in series\n",
    "numsims = 20000 # number of simulations to run\n",
    "\n",
    "for ii in range(numsets):\n",
    "    results = np.zeros((numsims,numdays))\n",
    "    for ii in range(numsims): \n",
    "        results[ii,]= run_sim(numdays)\n",
    "    \n",
    "    # estimate the probabilities for the last day in the simulated series. \n",
    "    lastday = collections.Counter(results[:,numdays-1])\n",
    "    for key in lastday:\n",
    "        lastday[key]=lastday[key]/float(numsims)\n",
    "\n",
    "    # estimate the probabilities for the next to last day in the simulated series.     \n",
    "    next2lastday = collections.Counter(results[:,numdays-2])\n",
    "    for key in next2lastday:\n",
    "        next2lastday[key]=next2lastday[key]/float(numsims)\n",
    "    print(\"last day count\\n{}\".format(lastday))\n",
    "    print(\"next to last day count\\n{}\".format(next2lastday))\n",
    "    print('---------------------')"
   ]
  },
  {
   "cell_type": "code",
   "execution_count": null,
   "metadata": {},
   "outputs": [],
   "source": []
  }
 ],
 "metadata": {
  "kernelspec": {
   "display_name": "Python 3",
   "language": "python",
   "name": "python3"
  },
  "language_info": {
   "codemirror_mode": {
    "name": "ipython",
    "version": 3
   },
   "file_extension": ".py",
   "mimetype": "text/x-python",
   "name": "python",
   "nbconvert_exporter": "python",
   "pygments_lexer": "ipython3",
   "version": "3.6.5"
  }
 },
 "nbformat": 4,
 "nbformat_minor": 2
}
