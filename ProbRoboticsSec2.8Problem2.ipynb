{
 "cells": [
  {
   "cell_type": "markdown",
   "metadata": {},
   "source": [
    "Testing shortcut keys"
   ]
  },
  {
   "cell_type": "code",
   "execution_count": 1,
   "metadata": {},
   "outputs": [],
   "source": [
    "#this is code by default"
   ]
  },
  {
   "cell_type": "markdown",
   "metadata": {},
   "source": [
    "This is markdown - type esc-m."
   ]
  },
  {
   "cell_type": "markdown",
   "metadata": {},
   "source": [
    "$A_m$ this is markdown in math mode."
   ]
  },
  {
   "cell_type": "code",
   "execution_count": 2,
   "metadata": {},
   "outputs": [],
   "source": [
    "\n",
    "\n",
    "from numpy.random import multinomial\n",
    "import numpy as np\n",
    "\n",
    "def run_sim(numdays):\n",
    "    '''\n",
    "    Generates simulated series of weather from the Markov chain defined in Probabilistic Robotics, Chapter 2, Problem 2.\n",
    "    The rows contain different simulations. \n",
    "    The n'th column contains simulated weather n days following day 1 (on which the weather is sunny).\n",
    "    '''\n",
    "    sunny = 1\n",
    "    cloudy = 2\n",
    "    rainy = 3\n",
    "    def get_daytype(mvals):\n",
    "        if mvals[0]:\n",
    "            return sunny\n",
    "        elif mvals[1]:\n",
    "            return cloudy\n",
    "        elif mvals[2]:\n",
    "            return rainy\n",
    "        else:\n",
    "            raise Exception(\"mvals is all zeros\")\n",
    "    seq = np.zeros(numdays)\n",
    "    tomorrow = 0\n",
    "    today = sunny\n",
    "    seq[0] = sunny\n",
    "    for ii in range(1,numdays):\n",
    "        if today is sunny:\n",
    "            tomorrow = multinomial(1, [0.8,0.2,0.0])\n",
    "        elif today is cloudy:\n",
    "            tomorrow = multinomial(1, [.4,.4,.2])\n",
    "        elif today is rainy:\n",
    "            tomorrow = multinomial(1, [.2,.6,.2])\n",
    "        else: \n",
    "            print(\"today is {}\".format(today))\n",
    "            raise Exception('hey')\n",
    "        #print(get_daytype(tomorrow))\n",
    "        seq[ii] = int(get_daytype(tomorrow))\n",
    "        today = get_daytype(tomorrow)\n",
    "    #print(seq)\n",
    "    return seq\n"
   ]
  },
  {
   "cell_type": "code",
   "execution_count": 9,
   "metadata": {},
   "outputs": [],
   "source": [
    "# Generate numsims sequences of weather for 4 days following a sunny day\n",
    "numsims = 2000\n",
    "numdays = 4\n",
    "results = np.zeros((numsims,numdays))\n",
    "for ii in range(numsims): \n",
    "    results[ii,]=run_sim(numdays)"
   ]
  },
  {
   "cell_type": "code",
   "execution_count": 10,
   "metadata": {},
   "outputs": [
    {
     "name": "stdout",
     "output_type": "stream",
     "text": [
      "Day 1:\n",
      "Counter({1.0: 0.807, 2.0: 0.193})\n",
      "Day 2:\n",
      "Counter({1.0: 0.7375, 2.0: 0.2165, 3.0: 0.046})\n",
      "Day 3:\n",
      "Counter({1.0: 0.6825, 2.0: 0.2595, 3.0: 0.058})\n"
     ]
    }
   ],
   "source": [
    "#What are the probabilities of weather on each day for 4 days following a sunny day\n",
    "for ii in range(1,numdays):\n",
    "    nextday = results[:,ii]\n",
    "    nextday_counts = collections.Counter(nextday)\n",
    "    for key in nextday_counts: \n",
    "        nextday_counts[key] = nextday_counts[key]/float(numsims)\n",
    "    print(\"Day {}:\\n{}\".format(ii,nextday_counts))"
   ]
  },
  {
   "cell_type": "code",
   "execution_count": 7,
   "metadata": {},
   "outputs": [
    {
     "name": "stdout",
     "output_type": "stream",
     "text": [
      "last day count\n",
      "Counter({1.0: 0.643, 2.0: 0.28615, 3.0: 0.07085})\n",
      "next to last day count\n",
      "Counter({1.0: 0.64095, 2.0: 0.28765, 3.0: 0.0714})\n",
      "---------------------\n",
      "last day count\n",
      "Counter({1.0: 0.6398, 2.0: 0.28735, 3.0: 0.07285})\n",
      "next to last day count\n",
      "Counter({1.0: 0.64605, 2.0: 0.28245, 3.0: 0.0715})\n",
      "---------------------\n",
      "last day count\n",
      "Counter({1.0: 0.6438, 2.0: 0.28925, 3.0: 0.06695})\n",
      "next to last day count\n",
      "Counter({1.0: 0.6461, 2.0: 0.2826, 3.0: 0.0713})\n",
      "---------------------\n",
      "last day count\n",
      "Counter({1.0: 0.64115, 2.0: 0.28785, 3.0: 0.071})\n",
      "next to last day count\n",
      "Counter({1.0: 0.63595, 2.0: 0.29105, 3.0: 0.073})\n",
      "---------------------\n"
     ]
    }
   ],
   "source": [
    "# run independent sets of sims numsets times to see if probabilities stabilize\n",
    "numsets = 4\n",
    "for ii in range(numsets):\n",
    "    numdays=50 # number of days in series\n",
    "    numsims = 20000 # number of simulations\n",
    "    results = np.zeros((numsims,numdays))\n",
    "    for ii in range(numsims): \n",
    "        results[ii,]= run_sim(numdays)\n",
    "    lastday = collections.Counter(results[:,numdays-1])\n",
    "    for key in lastday:\n",
    "        lastday[key]=lastday[key]/float(numsims)\n",
    "    next2lastday = collections.Counter(results[:,numdays-2])\n",
    "    for key in next2lastday:\n",
    "        next2lastday[key]=next2lastday[key]/float(numsims)\n",
    "    print(\"last day count\\n{}\".format(lastday))\n",
    "    print(\"next to last day count\\n{}\".format(next2lastday))\n",
    "    print('---------------------')"
   ]
  },
  {
   "cell_type": "code",
   "execution_count": 8,
   "metadata": {},
   "outputs": [
    {
     "name": "stdout",
     "output_type": "stream",
     "text": [
      "(0.6428571428571429, 0.2857142857142857, 0.07142857142857142)\n"
     ]
    }
   ],
   "source": [
    "#compare to stationary distribution calculated in closed form\n",
    "print((9.0/14.0,2.0/7.0, 1.0/14.0))"
   ]
  },
  {
   "cell_type": "code",
   "execution_count": null,
   "metadata": {},
   "outputs": [],
   "source": []
  }
 ],
 "metadata": {
  "kernelspec": {
   "display_name": "Python 3",
   "language": "python",
   "name": "python3"
  },
  "language_info": {
   "codemirror_mode": {
    "name": "ipython",
    "version": 3
   },
   "file_extension": ".py",
   "mimetype": "text/x-python",
   "name": "python",
   "nbconvert_exporter": "python",
   "pygments_lexer": "ipython3",
   "version": "3.6.5"
  }
 },
 "nbformat": 4,
 "nbformat_minor": 2
}
