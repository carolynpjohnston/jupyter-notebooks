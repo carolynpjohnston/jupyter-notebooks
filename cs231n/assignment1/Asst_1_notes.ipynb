{
 "cells": [
  {
   "cell_type": "markdown",
   "metadata": {},
   "source": [
    "### Note 1: This numpy code computes the L2 distances between num_test test vectors, and num_train training vectors. \n",
    "\n",
    "It uses only basic array manipulation from numpy, and broadcast sums -- no loops. "
   ]
  },
  {
   "cell_type": "code",
   "execution_count": 2,
   "metadata": {
    "collapsed": true
   },
   "outputs": [],
   "source": [
    " def compute_distances_no_loops(X_train, X):\n",
    "    \"\"\"\n",
    "    Compute the distance between each test point in X and each training point\n",
    "    in self.X_train using no explicit loops.\n",
    "\n",
    "    Input / Output: Same as compute_distances_two_loops\n",
    "    \"\"\"\n",
    "    num_test = X.shape[0]\n",
    "    num_train = X_train.shape[0]\n",
    "    dists = np.zeros((num_test, num_train)) \n",
    "    #########################################################################\n",
    "    # TODO:                                                                 #\n",
    "    # Compute the l2 distance between all test points and all training      #\n",
    "    # points without using any explicit loops, and store the result in      #\n",
    "    # dists.                                                                #\n",
    "    #                                                                       #\n",
    "    # You should implement this function using only basic array operations; #\n",
    "    # in particular you should not use functions from scipy.                #\n",
    "    #                                                                       #\n",
    "    # HINT: Try to formulate the l2 distance using matrix multiplication    #\n",
    "    #  and two broadcast sums.                                         #\n",
    "    #########################################################################\n",
    "    dists = -2*np.dot(X, np.transpose(self.X_train))\n",
    "    assert(dists.shape == (num_test, num_train))\n",
    "    \n",
    "    train_diags = np.diagonal(np.dot(X_train, np.transpose(X_train)))\n",
    "    assert(train_diags.shape == (num_train,))\n",
    "    \n",
    "    test_diags = np.diagonal(np.dot(X, np.transpose(X)))\n",
    "    dists = dists + train_diags # broadcast sum #1\n",
    "    dists = np.transpose(np.transpose(dists) + test_diags)  # broadcast sum #2\n",
    "    #########################################################################\n",
    "    #                         END OF YOUR CODE                              #\n",
    "    #########################################################################\n",
    "    return np.sqrt(dists)"
   ]
  },
  {
   "cell_type": "markdown",
   "metadata": {},
   "source": [
    "### Note 2: There is a python magic to make modules automatically get reloaded, without having to restart the kernel and run everything again."
   ]
  },
  {
   "cell_type": "code",
   "execution_count": null,
   "metadata": {
    "collapsed": true
   },
   "outputs": [],
   "source": [
    "# This is a bit of magic to make matplotlib figures appear inline in the notebook\n",
    "# rather than in a new window. \n",
    "%matplotlib inline\n",
    "plt.rcParams['figure.figsize'] = (10.0, 8.0) # set default size of plots\n",
    "plt.rcParams['image.interpolation'] = 'nearest'\n",
    "plt.rcParams['image.cmap'] = 'gray'\n",
    "\n",
    "# Some more magic so that the notebook will reload external python modules;\n",
    "# see http://stackoverflow.com/questions/1907993/autoreload-of-modules-in-ipython\n",
    "%load_ext autoreload\n",
    "%autoreload 2"
   ]
  }
 ],
 "metadata": {
  "anaconda-cloud": {},
  "kernelspec": {
   "display_name": "Python [conda env:cs231n]",
   "language": "python",
   "name": "conda-env-cs231n-py"
  },
  "language_info": {
   "codemirror_mode": {
    "name": "ipython",
    "version": 2
   },
   "file_extension": ".py",
   "mimetype": "text/x-python",
   "name": "python",
   "nbconvert_exporter": "python",
   "pygments_lexer": "ipython2",
   "version": "2.7.13"
  }
 },
 "nbformat": 4,
 "nbformat_minor": 2
}
