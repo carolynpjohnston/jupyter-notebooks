{
 "cells": [
  {
   "cell_type": "code",
   "execution_count": 1,
   "metadata": {
    "collapsed": false
   },
   "outputs": [
    {
     "name": "stderr",
     "output_type": "stream",
     "text": [
      "/home/carolyn/anaconda/envs/notebk/lib/python2.7/site-packages/matplotlib/font_manager.py:273: UserWarning: Matplotlib is building the font cache using fc-list. This may take a moment.\n",
      "  warnings.warn('Matplotlib is building the font cache using fc-list. This may take a moment.')\n"
     ]
    }
   ],
   "source": [
    "import matplotlib.pyplot as plt\n",
    "%matplotlib inline"
   ]
  },
  {
   "cell_type": "markdown",
   "metadata": {},
   "source": [
    "### Backward query exercises from \"Make Your Own Neural Net\"."
   ]
  },
  {
   "cell_type": "code",
   "execution_count": 2,
   "metadata": {
    "collapsed": true
   },
   "outputs": [],
   "source": [
    "import numpy as np\n",
    "import scipy.special\n",
    "\n",
    "#neural network class definition \n",
    "\n",
    "class NeuralNetwork:\n",
    "    \n",
    "    # input number of nodes in each of 3 layers\n",
    "    def __init__(self, ninodes, nhnodes, nonodes, lr):\n",
    "        \n",
    "        self.activation_function = lambda x: scipy.special.expit(x)\n",
    "        self.inv_activation_function = lambda x: scipy.special.logit(x)\n",
    "        \n",
    "        self.inodes = ninodes\n",
    "        self.hnodes = nhnodes\n",
    "        self.onodes = nonodes\n",
    "        self.lr = lr\n",
    "        \n",
    "        # initialize matrix with normal random variables \n",
    "        self.wih = np.random.normal(0.0, \n",
    "                                        pow(float(self.hnodes), -0.5),\n",
    "                                        (self.hnodes, self.inodes)\n",
    "                                      )\n",
    "        self.who = np.random.normal(0.0,\n",
    "                                     pow(float(self.onodes), -0.5),\n",
    "                                     (self.onodes, self.hnodes)\n",
    "                                      )\n",
    "        \n",
    "    def rescale_for_logit(self, dataset):\n",
    "        '''\n",
    "        dataset: a layerdim L x m data matrix, representing a list of m data \n",
    "        points in the L-dimensional space. \n",
    "        This function rescales the columns to be in the range [.01,.99]\n",
    "        So that logit can be applied.\n",
    "        '''\n",
    "        # result should be a 1-dim array of length m\n",
    "        dset_shape = dataset.shape # Lxm\n",
    "        maxes = np.amax(dataset, axis=0) \n",
    "        mins = np.amin(dataset, axis=0)\n",
    "        \n",
    "        # debug: asserts are to make sure you got the dimensions right\n",
    "        m = dset_shape[1]\n",
    "        assert maxes.shape == (m,)\n",
    "        \n",
    "        maxmindiff = maxes - mins\n",
    "        slopes = .98/maxmindiff\n",
    "        assert slopes.shape == (m,)\n",
    "        \n",
    "        # now this is likely to be a mess.\n",
    "        # dataset - mins is (l x m) - (m,)\n",
    "        # I hope it will get broadcast correctly. I think it will, if mins is viewed as just an m-vector.\n",
    "        # See page: https://docs.scipy.org/doc/numpy-1.10.0/user/basics.broadcasting.html\n",
    "        transformed = 0.98*slopes*(dataset - mins) + .01\n",
    "        assert transformed.shape == dset_shape\n",
    "        return transformed\n",
    "        \n",
    "        \n",
    "    def train(self, inputs_list, targets_list):\n",
    "        \n",
    "        # if inputs_list is a list of m items each of length n,\n",
    "        # np.array will turn it into an mxn matrix.\n",
    "        # ie, it will add records row by row.\n",
    "        # the result gets transposed here.\n",
    "        inputs = np.array(inputs_list, ndmin=2).T\n",
    "        targets = np.array(targets_list, ndmin=2).T\n",
    "        \n",
    "        # calculate signals into hidden layer\n",
    "        hidden_inputs = np.dot(self.wih, inputs)\n",
    "        \n",
    "        # calculate signals coming out of hidden layer\n",
    "        hidden_outputs = self.activation_function(hidden_inputs)\n",
    "        \n",
    "        # calculate signals going into output layer\n",
    "        final_inputs = np.dot(self.who, hidden_outputs)\n",
    "        \n",
    "        # calculate final output\n",
    "        final_outputs = self.activation_function(final_inputs)\n",
    "        \n",
    "        \n",
    "        # We will need the output and the hidden layer errors,\n",
    "        # both calculated up front, i.e., before the changes are applied to the interior weights.\n",
    "        # the hidden layer error is equal to the output_errors \n",
    "        # passed backward through the weights between the hidden and output\n",
    "        # layers (transposed).\n",
    "        # note that self.wts_ho.T is num_hidden x num_output,\n",
    "        # so hidden_errors is a num_hidden x 1 vector.\n",
    "        output_errors = targets - final_outputs\n",
    "        hidden_errors = np.dot(self.who.T, output_errors)\n",
    "        \n",
    "        \n",
    "        # now we backpropagate.\n",
    "        # step 1: adjust the hidden->outer weights wts_ho.\n",
    "        # these are components of the gradient of the error function\n",
    "        # wrt the hidden->output weights wts_ho (dimension outer x hidden).\n",
    "        # note that this is an outer product of the \n",
    "        # hidden and output components of the gradient        \n",
    "        self.who += self.lr * np.dot((output_errors*final_outputs*(1.0-final_outputs)), hidden_outputs.T)\n",
    "        \n",
    "        # the next step is the same, shifted to the input->hidden weights.\n",
    "        #hidden_component_of_wts_ih_delta = hidden_errors*hidden_outputs*(1.0-hidden_outputs)\n",
    "        #input_component_of_wts_ih_delta = inputs\n",
    "        \n",
    "        # again, outer product of input and hidden components of the gradient\n",
    "        self.wih += self.lr * np.dot((hidden_errors*hidden_outputs*(1.0-hidden_outputs)), inputs.T) \n",
    "        \n",
    "        \n",
    "        pass\n",
    "    \n",
    "    def query(self,inputs_list):\n",
    "        inputs = np.array(inputs_list, ndmin =2).T\n",
    "        \n",
    "        # calcualte signals entering hidden layer\n",
    "        hidden_inputs = np.dot(self.wih, inputs)\n",
    "        \n",
    "        # signals leaving hidden layer\n",
    "        hidden_outputs = self.activation_function(hidden_inputs)\n",
    "        \n",
    "        # signals entering final layer\n",
    "        final_inputs = np.dot(self.who, hidden_outputs)\n",
    "        \n",
    "        # signals leaving final layer\n",
    "        final_outputs = self.activation_function(final_inputs)\n",
    "        return final_outputs\n",
    "    \n",
    "    def backquery(self, outputs_list):\n",
    "        '''\n",
    "        For 'looking into the mind of a neural net'. \n",
    "        Give this code a list of m outputs, each of length 10,\n",
    "        and np.array (with ndmin=2) will turn it into an mx10 array.\n",
    "        Transposing will make it 10xm. \n",
    "        Backquery will generate m corresponding 'inputs'\n",
    "        which ought to reveal something about what features \n",
    "        the net is learning.\n",
    "        '''\n",
    "        \n",
    "        \n",
    "        outputs = np.array(outputs_list, ndmin=2).T\n",
    "\n",
    "        # back-transform outputs. All are between 0 and 1 not inclusive, \n",
    "        # so all are already in \n",
    "        # the right range to apply logit.\n",
    "        final_inputs = self.inv_activation_function(outputs)\n",
    "        \n",
    "        # final_inputs is still 10xm.\n",
    "        # self.who was a matrix of size 10 x (hnodes).\n",
    "        # so hidden_outputs will be hnodes x m.\n",
    "        hidden_outputs = np.dot(self.who.T, final_inputs)\n",
    "        \n",
    "        # hidden_outputs values are not guaranteed to be in the range (0,1).\n",
    "        # now we need to rescale hidden_outputs so we can apply logit.\n",
    "        # we rescale to [.01,.99].\n",
    "        rescaled_hidden_outputs = self.rescale_for_logit(hidden_outputs)\n",
    "        \n",
    "        #apply logit to the results, which is still hnodes x m.\n",
    "        hidden_inputs = self.inv_activation_function(rescaled_hidden_outputs)\n",
    "        \n",
    "        # next apply the transpose of the set of input weights, \n",
    "        # to get a hypothesized set of inputs.\n",
    "        hypothesized_inputs = np.dot(self.wih.T, hidden_inputs)\n",
    "        return hypothesized_inputs \n",
    "        \n",
    "        "
   ]
  },
  {
   "cell_type": "code",
   "execution_count": 3,
   "metadata": {
    "collapsed": false
   },
   "outputs": [
    {
     "name": "stdout",
     "output_type": "stream",
     "text": [
      "/mnt/xferUbuntu/notebooks/make_your_own_neural_network\n"
     ]
    },
    {
     "data": {
      "text/plain": [
       "['mnist_test.csv',\n",
       " 'mnist_test_10.csv',\n",
       " 'mnist_train.csv',\n",
       " 'mnist_train_100.csv']"
      ]
     },
     "execution_count": 3,
     "metadata": {},
     "output_type": "execute_result"
    }
   ],
   "source": [
    "# access the test and training data.\n",
    "import os\n",
    "print(os.getcwd())\n",
    "os.chdir(\"/mnt/xferUbuntu/notebooks/make_your_own_neural_network/mnist\")\n",
    "os.listdir(\".\")\n"
   ]
  },
  {
   "cell_type": "code",
   "execution_count": 4,
   "metadata": {
    "collapsed": false
   },
   "outputs": [],
   "source": [
    "training_file = open(os.path.join(os.getcwd(), \"mnist_train.csv\"), 'r')\n",
    "training_data = training_file.readlines()\n",
    "training_file.close()"
   ]
  },
  {
   "cell_type": "code",
   "execution_count": 5,
   "metadata": {
    "collapsed": true
   },
   "outputs": [],
   "source": [
    "inodes = 28*28 # number of input nodes = dimensions of input images\n",
    "hnodes = 100 # he starts by using 100 hidden nodes\n",
    "onodes = 10 # number of output nodes = 10 (1 per digit)"
   ]
  },
  {
   "cell_type": "code",
   "execution_count": 6,
   "metadata": {
    "collapsed": false
   },
   "outputs": [],
   "source": [
    "# set up the TRAINING inputs and target outputs\n",
    "all_inputs = []\n",
    "all_targets = []\n",
    "\n",
    "for line in training_data:\n",
    "    all_values = line.split(',')\n",
    "    assert len(all_values) == 28*28+1\n",
    "\n",
    "    # rescale the input values into the range [0.01, 1.0]\n",
    "    # you're avoiding the value 0 because the weights can't affect that value,\n",
    "    # but the value 1 is okay for input.\n",
    "    # note you do not need to reshape the array before using it for training...\n",
    "    # the neural net doesn't care whether it looks like an image to you!\n",
    "    inputs = ((np.asfarray(all_values[1:])/255.0)*0.99) + 0.01\n",
    "    assert len(inputs) == inodes\n",
    "    assert inputs.min() >0\n",
    "    all_inputs.append(inputs)\n",
    "\n",
    "    # all the non-target entries will be .01, the target entry will be .99\n",
    "    # otherwise you'll get large weights and a saturated network because you'll be trying \n",
    "    # to hit impossible values\n",
    "    targets = (np.zeros(onodes) + 0.01)\n",
    "    targets[int(all_values[0])] = 0.99\n",
    "    all_targets.append(targets)"
   ]
  },
  {
   "cell_type": "code",
   "execution_count": 7,
   "metadata": {
    "collapsed": true
   },
   "outputs": [],
   "source": [
    "test_file = open(os.path.join(os.getcwd(), \"mnist_test.csv\"), 'r')\n",
    "test_data = test_file.readlines()\n",
    "test_file.close()"
   ]
  },
  {
   "cell_type": "code",
   "execution_count": 8,
   "metadata": {
    "collapsed": false
   },
   "outputs": [],
   "source": [
    "# set up the TEST inputs and target outputs\n",
    "all_test_inputs = []\n",
    "all_test_labels = []\n",
    "\n",
    "for line in test_data:\n",
    "    all_values = line.split(',')\n",
    "    assert len(all_values) == 28*28+1\n",
    "\n",
    "    # rescale the input values into the range [0.01, 1.0]\n",
    "    # you're avoiding the value 0 because the weights can't affect that value,\n",
    "    # but the value 1 is okay for input.\n",
    "    # note you do not need to reshape the array before using it for training...\n",
    "    # the neural net doesn't care whether it looks like an image to you!\n",
    "    inputs = ((np.asfarray(all_values[1:])/255.0)*0.99) + 0.01\n",
    "    assert len(inputs) == inodes\n",
    "    assert inputs.min() >0\n",
    "    all_test_inputs.append(inputs)\n",
    "\n",
    "    label = int(all_values[0])\n",
    "    all_test_labels.append(label)"
   ]
  },
  {
   "cell_type": "code",
   "execution_count": 9,
   "metadata": {
    "collapsed": false
   },
   "outputs": [
    {
     "name": "stdout",
     "output_type": "stream",
     "text": [
      "Accuracy with 0 epochs: 0.9206\n",
      "Accuracy with 1 epochs: 0.9361\n",
      "Accuracy with 2 epochs: 0.9462\n",
      "Accuracy with 3 epochs: 0.9521\n",
      "Accuracy with 4 epochs: 0.9553\n",
      "Accuracy with 5 epochs: 0.958\n",
      "Accuracy with 6 epochs: 0.9592\n",
      "Accuracy with 7 epochs: 0.9601\n",
      "Accuracy with 8 epochs: 0.9629\n",
      "Accuracy with 9 epochs: 0.9638\n"
     ]
    }
   ],
   "source": [
    "lrate = 0.01\n",
    "nnet3 = NeuralNetwork(inodes, hnodes, onodes, lrate)\n",
    "accuracies = []\n",
    "\n",
    "import itertools\n",
    "\n",
    "for epoch in range(10):\n",
    "    for inputs, targets in itertools.izip(all_inputs, all_targets):\n",
    "        # ===>>> now we train individually with every sample.\n",
    "        nnet3.train(inputs, targets)\n",
    "\n",
    "    # now tuck the test loop inside the epochs loop, \n",
    "    # so you get a test rate per epoch. \n",
    "    scorecard = []\n",
    "    \n",
    "    # go through test records\n",
    "    for test_inputs, test_label in itertools.izip(all_test_inputs, all_test_labels):\n",
    "        \n",
    "        results = nnet3.query(test_inputs)\n",
    "        label = np.argmax(results)\n",
    "        #print \"Network says: {}, Target was {}\".format(label, test_target_indices[ii])\n",
    "        if label == test_label:\n",
    "            scorecard.append(1)\n",
    "        else:\n",
    "            scorecard.append(0)\n",
    "\n",
    "    accuracy = np.mean(scorecard)\n",
    "    accuracies.append(accuracy)\n",
    "    print \"Accuracy with {} epochs: {}\".format(epoch, accuracy)"
   ]
  },
  {
   "cell_type": "markdown",
   "metadata": {},
   "source": [
    "### Now I have a trained neural net. In the test I just ran, the accuracy got up to 96% after 10 epochs.\n",
    "### Next I'll run the neural net backward using the backward query code I added. \n",
    "\n",
    "The results below are, roughly speaking, the same that Taufiq got. \n",
    "\n",
    "Note there is a little matplotlib action there. Removing axes, adding a title to each plot, nothing fancy but I had to look it all up. "
   ]
  },
  {
   "cell_type": "code",
   "execution_count": 18,
   "metadata": {
    "collapsed": false
   },
   "outputs": [
    {
     "data": {
      "image/png": "[encoded data removed]",
      "text/plain": [
       "<matplotlib.figure.Figure at 0x7fcff317f690>"
      ]
     },
     "metadata": {},
     "output_type": "display_data"
    }
   ],
   "source": [
    "def create_target_for_label(L):\n",
    "    target = 0.01 * np.ones((10,))\n",
    "    target[L] = 0.99\n",
    "    return target\n",
    "\n",
    "fig = plt.figure()\n",
    "\n",
    "for ii in range(10):\n",
    "    subplot_num = (2,5,ii+1)\n",
    "    fig.add_subplot(*subplot_num)\n",
    "    target = create_target_for_label(ii)\n",
    "    response = nnet3.backquery(target)\n",
    "    plt.imshow(np.reshape(response.flatten(), (28,28)), cmap = 'gray')\n",
    "    plt.axis('off')\n",
    "    plt.title('{}'.format(ii))\n"
   ]
  }
 ],
 "metadata": {
  "kernelspec": {
   "display_name": "Python 2",
   "language": "python",
   "name": "python2"
  },
  "language_info": {
   "codemirror_mode": {
    "name": "ipython",
    "version": 2
   },
   "file_extension": ".py",
   "mimetype": "text/x-python",
   "name": "python",
   "nbconvert_exporter": "python",
   "pygments_lexer": "ipython2",
   "version": "2.7.11"
  }
 },
 "nbformat": 4,
 "nbformat_minor": 0
}
