{
 "cells": [
  {
   "cell_type": "markdown",
   "metadata": {
    "deletable": true,
    "editable": true
   },
   "source": [
    "### This is the pytorch blitz classification exercise."
   ]
  },
  {
   "cell_type": "code",
   "execution_count": 3,
   "metadata": {
    "collapsed": true,
    "deletable": true,
    "editable": true
   },
   "outputs": [],
   "source": [
    "import torch\n",
    "\n",
    "\n",
    "# torchvision is a nice wrapper for a bunch of standard training and test sets.\n",
    "import torchvision\n",
    "import torchvision.transforms as transforms"
   ]
  },
  {
   "cell_type": "raw",
   "metadata": {
    "deletable": true,
    "editable": true
   },
   "source": [
    "*The output of torchvision datasets are PILImage images of range [0, 1].*\n",
    "\n",
    "PIL == Python Imaging Library. CIFAR images are RGB images, 3x32x32. I guess each channel is normalized to [0,1] separately?\n",
    "\n",
    "*We transform them to Tensors of normalized range [-1, 1].*"
   ]
  },
  {
   "cell_type": "code",
   "execution_count": 4,
   "metadata": {
    "collapsed": false,
    "deletable": true,
    "editable": true
   },
   "outputs": [
    {
     "name": "stdout",
     "output_type": "stream",
     "text": [
      "Composes several transforms together.\n",
      "\n",
      "    Args:\n",
      "        transforms (List[Transform]): list of transforms to compose.\n",
      "\n",
      "    Example:\n",
      "        >>> transforms.Compose([\n",
      "        >>>     transforms.CenterCrop(10),\n",
      "        >>>     transforms.ToTensor(),\n",
      "        >>> ])\n",
      "    \n"
     ]
    }
   ],
   "source": [
    "\n",
    "# transforms.Compose has an odd syntax. If it were composing functions, \n",
    "# I'd think it would take function names without calling them,\n",
    "# but it calls them. See this example.\n",
    "\n",
    "print(transforms.Compose.__doc__)"
   ]
  },
  {
   "cell_type": "code",
   "execution_count": 5,
   "metadata": {
    "collapsed": false,
    "deletable": true,
    "editable": true
   },
   "outputs": [
    {
     "data": {
      "text/plain": [
       "torchvision.transforms.CenterCrop"
      ]
     },
     "execution_count": 5,
     "metadata": {},
     "output_type": "execute_result"
    }
   ],
   "source": [
    "## As best I can tell from reading the docs -- which are not definitive on this point --\n",
    "# statements like 'transforms.CenterCrop(10)' produce a class member. \n",
    "type(transforms.CenterCrop(10))"
   ]
  },
  {
   "cell_type": "code",
   "execution_count": 6,
   "metadata": {
    "collapsed": false,
    "deletable": true,
    "editable": true
   },
   "outputs": [
    {
     "name": "stdout",
     "output_type": "stream",
     "text": [
      "Files already downloaded and verified\n",
      "Files already downloaded and verified\n"
     ]
    }
   ],
   "source": [
    "#transforms.Normalize: the first argument is the estimated mean of the (R,G,B) channels, \n",
    "# and the second is the estimated \n",
    "# standard deviation.\n",
    "transform = transforms.Compose(\n",
    "    [transforms.ToTensor(),\n",
    "     transforms.Normalize((0.5, 0.5, 0.5), (0.5, 0.5, 0.5))])\n",
    "\n",
    "\n",
    "trainset = torchvision.datasets.CIFAR10(root='./data', train=True,\n",
    "                                        download=True, transform=transform)\n",
    "\n",
    "trainloader = torch.utils.data.DataLoader(trainset, batch_size=4,\n",
    "                                          shuffle=True, num_workers=2)\n",
    "\n",
    "testset = torchvision.datasets.CIFAR10(root='./data', train=False,\n",
    "                                       download=True, transform=transform)\n",
    "\n",
    "testloader = torch.utils.data.DataLoader(testset, batch_size=4,\n",
    "                                         shuffle=False, num_workers=2)\n",
    "\n",
    "classes = ('plane', 'car', 'bird', 'cat',\n",
    "           'deer', 'dog', 'frog', 'horse', 'ship', 'truck')"
   ]
  },
  {
   "cell_type": "code",
   "execution_count": 7,
   "metadata": {
    "collapsed": false,
    "deletable": true,
    "editable": true
   },
   "outputs": [
    {
     "name": "stdout",
     "output_type": "stream",
     "text": [
      "horse  ship   car   car\n"
     ]
    },
    {
     "data": {
      "image/png": "[encoded data removed]",
      "text/plain": [
       "<matplotlib.figure.Figure at 0x7f098fcf9d68>"
      ]
     },
     "metadata": {},
     "output_type": "display_data"
    }
   ],
   "source": [
    "# Looking at the training images \n",
    "# they are small. Dog looks like a cat to me.\n",
    "\n",
    "%matplotlib inline\n",
    "import matplotlib.pyplot as plt\n",
    "import numpy as np\n",
    "\n",
    "# functions to show an image\n",
    "def imshow(img):\n",
    "    img = img / 2 + 0.5     # unnormalize\n",
    "    npimg = img.numpy()\n",
    "    plt.imshow(np.transpose(npimg, (1, 2, 0)))\n",
    "\n",
    "# get some random training images\n",
    "dataiter = iter(trainloader)\n",
    "images, labels = dataiter.next()\n",
    "\n",
    "# show images\n",
    "imshow(torchvision.utils.make_grid(images))\n",
    "# print labels\n",
    "print(' '.join('%5s' % classes[labels[j]] for j in range(4)))"
   ]
  },
  {
   "cell_type": "markdown",
   "metadata": {
    "deletable": true,
    "editable": true
   },
   "source": [
    "### Copy the neural net over from the previous section. Modify it to take 3-channel input images.\n",
    "\n",
    "The following code creates a neural net with the following layers:\n",
    "Input: 3x32x32\n",
    "C1: 6@28x28 -- by applying 6 5x5 convolutions (the only change is that the 3 channels are all folded into the 6 output channels)\n",
    "S2: 6@14x14 -- by subsampling (maxpooling?) each of the 6 channels\n",
    "C3: 16@ 10x10 -- by applying 16 5x5 convolutions (? 16?)\n",
    "S4: 16@ 5x5 -- subsampling each of the 16 channels\n",
    "F5: fully connected layer, 120\n",
    "F6: fully connected layer, 84\n",
    "F7: fully connected layer, 10 (outputs)\n",
    "\n",
    "Note also that max_pool2d(F.relu(self.conv1(x)), (2, 2)) are replaced with an apparently equivalent function held in a class variable. "
   ]
  },
  {
   "cell_type": "code",
   "execution_count": 8,
   "metadata": {
    "collapsed": false,
    "deletable": true,
    "editable": true
   },
   "outputs": [],
   "source": [
    "from torch.autograd import Variable\n",
    "import torch.nn as nn\n",
    "import torch.nn.functional as F\n",
    "\n",
    "class Net(nn.Module):\n",
    "    def __init__(self):\n",
    "        super(Net, self).__init__()\n",
    "        self.conv1 = nn.Conv2d(3, 6, 5)\n",
    "        self.pool  = nn.MaxPool2d(2, 2)\n",
    "        self.conv2 = nn.Conv2d(6, 16, 5)\n",
    "        self.fc1   = nn.Linear(16 * 5 * 5, 120)\n",
    "        self.fc2   = nn.Linear(120, 84)\n",
    "        self.fc3   = nn.Linear(84, 10)\n",
    "\n",
    "    def forward(self, x):\n",
    "        x = self.pool(F.relu(self.conv1(x)))\n",
    "        x = self.pool(F.relu(self.conv2(x)))\n",
    "        x = x.view(-1, 16 * 5 * 5)\n",
    "        x = F.relu(self.fc1(x))\n",
    "        x = F.relu(self.fc2(x))\n",
    "        x = self.fc3(x)\n",
    "        return x\n",
    "\n",
    "net = Net()"
   ]
  },
  {
   "cell_type": "markdown",
   "metadata": {
    "deletable": true,
    "editable": true
   },
   "source": [
    "### Now define the loss function and optimization method."
   ]
  },
  {
   "cell_type": "code",
   "execution_count": 9,
   "metadata": {
    "collapsed": true,
    "deletable": true,
    "editable": true
   },
   "outputs": [],
   "source": [
    "import torch.optim as optim\n",
    "\n",
    "criterion = nn.CrossEntropyLoss()\n",
    "optimizer = optim.SGD(net.parameters(), lr=0.001, momentum=0.9)"
   ]
  },
  {
   "cell_type": "markdown",
   "metadata": {
    "deletable": true,
    "editable": true
   },
   "source": [
    "### Next up: understand what the code that follows is doing. "
   ]
  },
  {
   "cell_type": "code",
   "execution_count": 10,
   "metadata": {
    "collapsed": false,
    "deletable": true,
    "editable": true
   },
   "outputs": [
    {
     "name": "stdout",
     "output_type": "stream",
     "text": [
      "[1,  2000] loss: 2.231\n",
      "[1,  4000] loss: 1.875\n",
      "[1,  6000] loss: 1.669\n",
      "[1,  8000] loss: 1.589\n",
      "[1, 10000] loss: 1.524\n",
      "[1, 12000] loss: 1.463\n",
      "[2,  2000] loss: 1.371\n",
      "[2,  4000] loss: 1.353\n",
      "[2,  6000] loss: 1.341\n",
      "[2,  8000] loss: 1.312\n",
      "[2, 10000] loss: 1.291\n",
      "[2, 12000] loss: 1.294\n",
      "Finished Training\n"
     ]
    }
   ],
   "source": [
    "for epoch in range(2):  # loop over the dataset multiple times\n",
    "\n",
    "    ### running loss is reset to zero at the beginning of every epoch.\n",
    "    running_loss = 0.0\n",
    "    for i, data in enumerate(trainloader, 0):\n",
    "        # get the inputs\n",
    "        # inputs is actually a 4D tensor of size (4, 3, 32, 32)\n",
    "        # (to see this, call inputs.size())\n",
    "        # representing a batch of 4 images, with 4 labels -- these are actually the indices of the relevant classes. \n",
    "        inputs, labels = data\n",
    "\n",
    "        # wrap them in Variable\n",
    "        inputs, labels = Variable(inputs), Variable(labels)\n",
    "\n",
    "        # zero the parameter gradients\n",
    "        # note -- optimizer has a 'grip' on the neural net parameters. It can call zero_grad, \n",
    "        # and add the contents of the grad tensors to the parameters it holds (in the step function). \n",
    "        optimizer.zero_grad()\n",
    "\n",
    "        # forward + backward + optimize\n",
    "        # call forward on the input batch\n",
    "        outputs = net(inputs)\n",
    "        # calculate the loss function , in this case it will be cross entropy\n",
    "        loss = criterion(outputs, labels)\n",
    "        \n",
    "        # back propagate and add the gradient\n",
    "        loss.backward()\n",
    "        optimizer.step()\n",
    "\n",
    "        # print statistics out at every 2000 mini-batches\n",
    "        running_loss += loss.data[0]\n",
    "        if i % 2000 == 1999:    \n",
    "            print('[%d, %5d] loss: %4.3f' % (epoch+1, i+1, running_loss / 2000))\n",
    "\n",
    "            running_loss = 0.0\n",
    "\n",
    "print('Finished Training')"
   ]
  },
  {
   "cell_type": "code",
   "execution_count": 11,
   "metadata": {
    "collapsed": false,
    "deletable": true,
    "editable": true
   },
   "outputs": [
    {
     "name": "stdout",
     "output_type": "stream",
     "text": [
      "GroundTruth:    cat  ship  ship plane\n"
     ]
    },
    {
     "data": {
      "image/png": "[encoded data removed]",
      "text/plain": [
       "<matplotlib.figure.Figure at 0x7f099bc2c2b0>"
      ]
     },
     "metadata": {},
     "output_type": "display_data"
    }
   ],
   "source": [
    "dataiter = iter(testloader)\n",
    "images, labels = dataiter.next()\n",
    "\n",
    "# look at the first batch of test images\n",
    "imshow(torchvision.utils.make_grid(images))\n",
    "print('GroundTruth: ', ' '.join('%5s' % classes[labels[j]] for j in range(4)))"
   ]
  },
  {
   "cell_type": "code",
   "execution_count": 12,
   "metadata": {
    "collapsed": false,
    "deletable": true,
    "editable": true
   },
   "outputs": [
    {
     "name": "stdout",
     "output_type": "stream",
     "text": [
      "<class 'torch.FloatTensor'>\n",
      "5.1839189529418945\n"
     ]
    }
   ],
   "source": [
    "# run these images through the net. Recall that the test images were already normalized too.\n",
    "outputs = net(Variable(images))\n",
    "\n",
    "# outputs are Variables. Get the tensors out.\n",
    "print(type(outputs.data))\n",
    "\n",
    "#look at the tensors. There is a result for each of the 3D images in the batch of 4, \n",
    "# so outputs.data is a 4x10 tensor.\n",
    "# what you want to do is to apply the max function across the 2nd dimension -- calling 'torch.max' will just apply it across all dimensions.\n",
    "print(torch.max(outputs.data))"
   ]
  },
  {
   "cell_type": "code",
   "execution_count": 13,
   "metadata": {
    "collapsed": false,
    "deletable": true,
    "editable": true
   },
   "outputs": [
    {
     "name": "stdout",
     "output_type": "stream",
     "text": [
      "(\n",
      " 2.8480\n",
      " 5.1839\n",
      " 2.5595\n",
      " 4.0118\n",
      "[torch.FloatTensor of size 4x1]\n",
      ", \n",
      " 3\n",
      " 1\n",
      " 8\n",
      " 0\n",
      "[torch.LongTensor of size 4x1]\n",
      ")\n"
     ]
    }
   ],
   "source": [
    "# calling torch.max with a second argument of 1 will apply it across the 2nd dimension, which has index 1.\n",
    "# the return value consists of a list (I think it's a list) of 2 4x1 tensors.\n",
    "# the first 4x1 tensor is a float tensor containing the maxes in each dimension. \n",
    "# the second 4x1 tensor is a long int tensor containing the indices of the maxes in each dimension. \n",
    "print(torch.max(outputs.data, 1)) "
   ]
  },
  {
   "cell_type": "code",
   "execution_count": 14,
   "metadata": {
    "collapsed": false,
    "deletable": true,
    "editable": true
   },
   "outputs": [
    {
     "name": "stdout",
     "output_type": "stream",
     "text": [
      "Predicted:    cat   car  ship plane\n"
     ]
    }
   ],
   "source": [
    "# that second tensor, the LongTensor of indices, is the only one we want to use.\n",
    "# So now they use an odd idiom which turns out to be standard practice in Python:\n",
    "# if you have a return value from a function call that you're not going to use, you \n",
    "# name it 'underscore'. See http://stackoverflow.com/questions/5893163/what-is-the-purpose-of-the-single-underscore-variable-in-python\n",
    "\n",
    "_, predicted = torch.max(outputs.data, 1)\n",
    "\n",
    "print('Predicted: ', ' '.join('%5s' % classes[predicted[j][0]]\n",
    "                              for j in range(4)))"
   ]
  },
  {
   "cell_type": "code",
   "execution_count": 15,
   "metadata": {
    "collapsed": false,
    "deletable": true,
    "editable": true
   },
   "outputs": [
    {
     "name": "stdout",
     "output_type": "stream",
     "text": [
      "Accuracy of the network on the 10000 test images: 54 %\n"
     ]
    }
   ],
   "source": [
    "# Now check the accuracy on the entire test set. Keep in mind there are 10 classes,\n",
    "# so random guessing would give a 10% probability of success.\n",
    "correct = 0\n",
    "total = 0\n",
    "for data in testloader:\n",
    "    images, labels = data\n",
    "    outputs = net(Variable(images))\n",
    "    _, predicted = torch.max(outputs.data, 1)\n",
    "    total += labels.size(0)\n",
    "    correct += (predicted == labels).sum()\n",
    "\n",
    "print('Accuracy of the network on the 10000 test images: %d %%' % (\n",
    "    100 * correct / total))"
   ]
  },
  {
   "cell_type": "code",
   "execution_count": 16,
   "metadata": {
    "collapsed": false,
    "deletable": true,
    "editable": true
   },
   "outputs": [
    {
     "name": "stdout",
     "output_type": "stream",
     "text": [
      "Accuracy of plane : 62 %\n",
      "Accuracy of   car : 75 %\n",
      "Accuracy of  bird : 25 %\n",
      "Accuracy of   cat : 47 %\n",
      "Accuracy of  deer : 32 %\n",
      "Accuracy of   dog : 58 %\n",
      "Accuracy of  frog : 69 %\n",
      "Accuracy of horse : 65 %\n",
      "Accuracy of  ship : 52 %\n",
      "Accuracy of truck : 58 %\n"
     ]
    }
   ],
   "source": [
    "\n",
    "# Now do a class by class breakdown on the accuracy. Better would be a confusion matrix...\n",
    "\n",
    "class_correct = list(0. for i in range(10))\n",
    "class_total = list(0. for i in range(10))\n",
    "for data in testloader:\n",
    "    images, labels = data\n",
    "    outputs = net(Variable(images))\n",
    "    _, predicted = torch.max(outputs.data, 1)\n",
    "    c = (predicted == labels).squeeze()\n",
    "    for i in range(4):\n",
    "        label = labels[i]\n",
    "        class_correct[label] += c[i]\n",
    "        class_total[label] += 1\n",
    "\n",
    "\n",
    "for i in range(10):\n",
    "    print('Accuracy of %5s : %2d %%' % (\n",
    "        classes[i], 100 * class_correct[i] / class_total[i]))"
   ]
  },
  {
   "cell_type": "code",
   "execution_count": 17,
   "metadata": {
    "collapsed": false,
    "deletable": true,
    "editable": true
   },
   "outputs": [],
   "source": [
    "# Now do a class by class breakdown on the accuracy. Better would be a confusion matrix...\n",
    "import numpy as np\n",
    "confusion = np.zeros((10,10))\n",
    "for data in testloader:\n",
    "    images, labels = data\n",
    "    outputs = net(Variable(images))\n",
    "    \n",
    "    # remember that predicted == torch.max(outputs.data, 1)[1] will be a 4x1 long integer tensor. \n",
    "    _, predicted = torch.max(outputs.data, 1) \n",
    "    \n",
    "\n",
    "    # confusion(predicted, labels)\n",
    "    # the columns will sum up to the actual total number of items labeled with a class\n",
    "    # so normalize by the column sum.\n",
    "    for ii in range(len(labels)):\n",
    "        confusion[predicted[ii][0]][labels[ii]] +=1\n",
    "        \n"
   ]
  },
  {
   "cell_type": "code",
   "execution_count": 18,
   "metadata": {
    "collapsed": false,
    "deletable": true,
    "editable": true
   },
   "outputs": [
    {
     "name": "stdout",
     "output_type": "stream",
     "text": [
      "[[ 0.629  0.02   0.064  0.014  0.028  0.007  0.006  0.009  0.188  0.035]\n",
      " [ 0.052  0.752  0.015  0.012  0.015  0.005  0.016  0.01   0.076  0.194]\n",
      " [ 0.044  0.007  0.256  0.024  0.059  0.018  0.02   0.008  0.018  0.003]\n",
      " [ 0.068  0.036  0.201  0.476  0.14   0.234  0.143  0.086  0.054  0.054]\n",
      " [ 0.017  0.001  0.085  0.025  0.323  0.02   0.023  0.034  0.006  0.001]\n",
      " [ 0.032  0.018  0.177  0.289  0.115  0.587  0.064  0.145  0.035  0.026]\n",
      " [ 0.02   0.016  0.127  0.09   0.174  0.053  0.69   0.021  0.011  0.027]\n",
      " [ 0.016  0.017  0.052  0.043  0.127  0.064  0.02   0.659  0.011  0.052]\n",
      " [ 0.06   0.025  0.012  0.005  0.013  0.005  0.003  0.002  0.522  0.022]\n",
      " [ 0.062  0.108  0.011  0.022  0.006  0.007  0.015  0.026  0.079  0.586]]\n"
     ]
    }
   ],
   "source": [
    "# confusion matrix has true labels on the columns, assigned labels on the rows. \n",
    "# the true classes are balanced -- 1000 examples per class.\n",
    "class_totals = np.apply_along_axis(np.sum, 0, confusion)\n",
    "# print(class_totals)\n",
    "\n",
    "normed_confusion = confusion.copy()\n",
    "\n",
    "# how do I get the normalization to happen properly without looping? broadcasting?\n",
    "# if I do this, then I think the division gets applied columnwise, which would be right.\n",
    "# yes, it is. I got lucky.\n",
    "normed_confusion/=class_totals\n",
    "print(normed_confusion)"
   ]
  },
  {
   "cell_type": "code",
   "execution_count": 19,
   "metadata": {
    "collapsed": false,
    "deletable": true,
    "editable": true
   },
   "outputs": [
    {
     "name": "stdout",
     "output_type": "stream",
     "text": [
      "               plane       car      bird       cat      deer       dog      frog     horse      ship     truck\n",
      "     plane     629.0      20.0      64.0      14.0      28.0       7.0       6.0       9.0     188.0      35.0\n",
      "       car      52.0     752.0      15.0      12.0      15.0       5.0      16.0      10.0      76.0     194.0\n",
      "      bird      44.0       7.0     256.0      24.0      59.0      18.0      20.0       8.0      18.0       3.0\n",
      "       cat      68.0      36.0     201.0     476.0     140.0     234.0     143.0      86.0      54.0      54.0\n",
      "      deer      17.0       1.0      85.0      25.0     323.0      20.0      23.0      34.0       6.0       1.0\n",
      "       dog      32.0      18.0     177.0     289.0     115.0     587.0      64.0     145.0      35.0      26.0\n",
      "      frog      20.0      16.0     127.0      90.0     174.0      53.0     690.0      21.0      11.0      27.0\n",
      "     horse      16.0      17.0      52.0      43.0     127.0      64.0      20.0     659.0      11.0      52.0\n",
      "      ship      60.0      25.0      12.0       5.0      13.0       5.0       3.0       2.0     522.0      22.0\n",
      "     truck      62.0     108.0      11.0      22.0       6.0       7.0      15.0      26.0      79.0     586.0\n"
     ]
    }
   ],
   "source": [
    "# format the output of the confusion matrix. That extra greater-than symbol \n",
    "# causes the titles to be right justified, which matches the numerical output.\n",
    "format_term = \"{:>10}\" * 11\n",
    "\n",
    "# note use of the * operator for unpacking the second (list) arguments in the format call.\n",
    "# \n",
    "print(format_term.format(\"   \", *classes))\n",
    "for ii in range(10):\n",
    "    print(format_term.format(classes[ii], *confusion[ii][:])) \n"
   ]
  },
  {
   "cell_type": "markdown",
   "metadata": {
    "deletable": true,
    "editable": true
   },
   "source": [
    "### Observations on the training so far\n",
    "\n",
    "    frequently cats are mistaken for dogs and horses. \n",
    "    but horses are infrequently mistaken for other animals.\n",
    "    Planes are frequently mistaken for ships and vice versa.\n",
    "    Deer and birds are mistaken for cats, deer, and planes. And horses. \n",
    "\n",
    "Finally, training for 10 epochs doesn't improve the outcome much over training for 2 epochs. "
   ]
  },
  {
   "cell_type": "code",
   "execution_count": 20,
   "metadata": {
    "collapsed": false,
    "deletable": true,
    "editable": true
   },
   "outputs": [
    {
     "data": {
      "text/plain": [
       "False"
      ]
     },
     "execution_count": 20,
     "metadata": {},
     "output_type": "execute_result"
    }
   ],
   "source": [
    "# FINALLY, FOR THE LAST EXERCISE YOU NEED CUDA. NEXT STEP IS TO GET IT INSTALLED.\n",
    "# The goal is for this function to return True.\n",
    "torch.cuda.is_available()"
   ]
  },
  {
   "cell_type": "code",
   "execution_count": null,
   "metadata": {
    "collapsed": true,
    "deletable": true,
    "editable": true
   },
   "outputs": [],
   "source": []
  }
 ],
 "metadata": {
  "kernelspec": {
   "display_name": "Python 3",
   "language": "python",
   "name": "python3"
  },
  "language_info": {
   "codemirror_mode": {
    "name": "ipython",
    "version": 3
   },
   "file_extension": ".py",
   "mimetype": "text/x-python",
   "name": "python",
   "nbconvert_exporter": "python",
   "pygments_lexer": "ipython3",
   "version": "3.6.0"
  }
 },
 "nbformat": 4,
 "nbformat_minor": 2
}
